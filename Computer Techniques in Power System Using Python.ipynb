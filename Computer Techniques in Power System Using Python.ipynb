{
 "cells": [
  {
   "cell_type": "markdown",
   "metadata": {},
   "source": [
    "## Contents"
   ]
  },
  {
   "cell_type": "markdown",
   "metadata": {},
   "source": [
    "<b> Introduction<br>\n",
    "Ybus Formation <br>\n",
    "DC Load Flow Analysis <br>\n",
    "Gauss Siedel Analysis <br>\n",
    "Newton Raphson Method<br> </b>"
   ]
  },
  {
   "cell_type": "markdown",
   "metadata": {},
   "source": [
    "# Introduction"
   ]
  },
  {
   "cell_type": "code",
   "execution_count": 1,
   "metadata": {},
   "outputs": [],
   "source": [
    "import numpy as np\n",
    "import os\n",
    "import cmath\n",
    "import csv\n",
    "import pandas as pd"
   ]
  },
  {
   "cell_type": "markdown",
   "metadata": {},
   "source": [
    "# Ybus formation"
   ]
  },
  {
   "cell_type": "markdown",
   "metadata": {},
   "source": [
    "## Line and bus data"
   ]
  },
  {
   "cell_type": "markdown",
   "metadata": {},
   "source": [
    "### Entering the line data"
   ]
  },
  {
   "cell_type": "code",
   "execution_count": 4,
   "metadata": {},
   "outputs": [],
   "source": [
    "def enter_data():\n",
    "    nb = int(input(\"Enter the number of Buses: \")) \n",
    "    nl = int(input(\"Enter the number of Lines: \"))\n",
    "    from_bus = []\n",
    "    to_bus = []\n",
    "    R = []\n",
    "    X = []\n",
    "    Z = []\n",
    "    G = []\n",
    "    B = []\n",
    "    Y = []\n",
    "    turns_ratio = []\n",
    "    for i in range(0,nl):\n",
    "        print(\"\\n\\n Entry Number: \", i+1)\n",
    "        x = float(input(\"\\n Enter the from bus: \"))\n",
    "        if(x<=nb):\n",
    "            from_bus.append(x)\n",
    "        x = float(input(\"\\n Enter the to bus: \"))\n",
    "        if(x<=nb):\n",
    "            to_bus.append(x)\n",
    "        x = float(input(\"\\n Enter the Line Resistance: \"))\n",
    "        R.append(x)\n",
    "        x = float(input(\"\\n Enter the Line Reactance: \"))\n",
    "        X.append(x)\n",
    "        x = complex(R[i],X[i])\n",
    "        g = complex(\"{0:.2f}\".format(x))\n",
    "        Z.append(g)\n",
    "        print(\"\\n Line Impedence = \", Z[i])\n",
    "\n",
    "        Y.append(1/Z[i])\n",
    "        G.append(Y[i].real)\n",
    "        B.append(Y[i].imag)\n",
    "        print(\"\\n Line Admittance = \", Y[i])\n",
    "        x = float(input(\"\\n Enter the turns ratio: \"))\n",
    "        turns_ratio.append(x)\n",
    "    data_matrix = [(from_bus[i], to_bus[i], R[i], X[i], Z[i], G[i], B[i], Y[i], turns_ratio[i]) for i in range(0, nl)] \n",
    "    data_matrix = pd.DataFrame(data_matrix, columns=['From_Bus','To_Bus','R','X','Z','G','B','Y','Turns_Ratio'])\n",
    "    return data_matrix"
   ]
  },
  {
   "cell_type": "code",
   "execution_count": 5,
   "metadata": {},
   "outputs": [
    {
     "name": "stdout",
     "output_type": "stream",
     "text": [
      "Enter the number of Buses: 3\n",
      "Enter the number of Lines: 3\n",
      "\n",
      "\n",
      " Entry Number:  1\n",
      "\n",
      " Enter the from bus: 1\n",
      "\n",
      " Enter the to bus: 2\n",
      "\n",
      " Enter the Line Resistance: 23\n",
      "\n",
      " Enter the Line Reactance: 43\n",
      "\n",
      " Line Impedence =  (23+43j)\n",
      "\n",
      " Line Admittance =  (0.009671993271656854-0.01808242220353238j)\n",
      "\n",
      " Enter the turns ratio: 2\n",
      "\n",
      "\n",
      " Entry Number:  2\n",
      "\n",
      " Enter the from bus: 2\n",
      "\n",
      " Enter the to bus: 3\n",
      "\n",
      " Enter the Line Resistance: 42\n",
      "\n",
      " Enter the Line Reactance: 45\n",
      "\n",
      " Line Impedence =  (42+45j)\n",
      "\n",
      " Line Admittance =  (0.011084718923198733-0.011876484560570071j)\n",
      "\n",
      " Enter the turns ratio: 2\n",
      "\n",
      "\n",
      " Entry Number:  3\n",
      "\n",
      " Enter the from bus: 1\n",
      "\n",
      " Enter the to bus: 3\n",
      "\n",
      " Enter the Line Resistance: 243\n",
      "\n",
      " Enter the Line Reactance: 46\n",
      "\n",
      " Line Impedence =  (243+46j)\n",
      "\n",
      " Line Admittance =  (0.003972860295920869-0.0007520640889397531j)\n",
      "\n",
      " Enter the turns ratio: 0.34\n"
     ]
    }
   ],
   "source": [
    "data_matrix = enter_data()"
   ]
  },
  {
   "cell_type": "code",
   "execution_count": 2,
   "metadata": {},
   "outputs": [
    {
     "ename": "NameError",
     "evalue": "name 'data_matrix' is not defined",
     "output_type": "error",
     "traceback": [
      "\u001b[1;31m---------------------------------------------------------------------------\u001b[0m",
      "\u001b[1;31mNameError\u001b[0m                                 Traceback (most recent call last)",
      "\u001b[1;32m<ipython-input-2-ec269ee736fa>\u001b[0m in \u001b[0;36m<module>\u001b[1;34m\u001b[0m\n\u001b[1;32m----> 1\u001b[1;33m \u001b[0mdata_matrix\u001b[0m\u001b[1;33m\u001b[0m\u001b[1;33m\u001b[0m\u001b[0m\n\u001b[0m",
      "\u001b[1;31mNameError\u001b[0m: name 'data_matrix' is not defined"
     ]
    }
   ],
   "source": [
    "data_matrix"
   ]
  },
  {
   "cell_type": "code",
   "execution_count": 18,
   "metadata": {},
   "outputs": [],
   "source": [
    "def write_to_csv(data_matrix):\n",
    "    dir_path = os.getcwd()\n",
    "    filename = input(\"Enter the Filename: \")\n",
    "    filename = filename + '.csv'\n",
    "    export_csv = data_matrix.to_csv (os.path.join(dir_path,filename), index = None, header=True)"
   ]
  },
  {
   "cell_type": "code",
   "execution_count": 19,
   "metadata": {},
   "outputs": [
    {
     "name": "stdout",
     "output_type": "stream",
     "text": [
      "Enter the Filename: temp\n"
     ]
    }
   ],
   "source": [
    "write_to_csv(data_matrix)"
   ]
  },
  {
   "cell_type": "markdown",
   "metadata": {},
   "source": [
    "### Reading the data from a CSV file"
   ]
  },
  {
   "cell_type": "code",
   "execution_count": 11,
   "metadata": {},
   "outputs": [],
   "source": [
    "def read_from_csv():\n",
    "    print(\"\\n\\n Please make sure that the CSV has data in following format: \\n\\n\\n From Bus\\tTo Bus\\t R\\tX\\tX\\tZ\\tG\\tB\\tY\\tTurns Ratio\\n \\n\\n Note: The csv file should be in the same directory\")\n",
    "    filename = input(\"\\n Enter the CSV Filename:  \")\n",
    "    filename = filename + '.csv'\n",
    "    dir_path = os.getcwd()\n",
    "    csv_path = os.path.join(dir_path, filename)\n",
    "    data = pd.read_csv(csv_path)\n",
    "    data.head()\n",
    "    return(data)"
   ]
  },
  {
   "cell_type": "code",
   "execution_count": 12,
   "metadata": {},
   "outputs": [
    {
     "name": "stdout",
     "output_type": "stream",
     "text": [
      "\n",
      "\n",
      " Please make sure that the CSV has data in following format: \n",
      "\n",
      "\n",
      " From Bus\tTo Bus\t R\tX\tX\tZ\tG\tB\tY\tTurns Ratio\n",
      " \n",
      "\n",
      " Note: The csv file should be in the same directory\n",
      "\n",
      " Enter the CSV Filename:  line_data\n"
     ]
    },
    {
     "ename": "ValueError",
     "evalue": "The truth value of a DataFrame is ambiguous. Use a.empty, a.bool(), a.item(), a.any() or a.all().",
     "output_type": "error",
     "traceback": [
      "\u001b[1;31m---------------------------------------------------------------------------\u001b[0m",
      "\u001b[1;31mValueError\u001b[0m                                Traceback (most recent call last)",
      "\u001b[1;32m<ipython-input-12-7a1292ace29c>\u001b[0m in \u001b[0;36m<module>\u001b[1;34m\u001b[0m\n\u001b[1;32m----> 1\u001b[1;33m \u001b[0mread_from_csv\u001b[0m\u001b[1;33m(\u001b[0m\u001b[1;33m)\u001b[0m\u001b[1;33m\u001b[0m\u001b[1;33m\u001b[0m\u001b[0m\n\u001b[0m",
      "\u001b[1;32m<ipython-input-11-79d5514ad44a>\u001b[0m in \u001b[0;36mread_from_csv\u001b[1;34m()\u001b[0m\n\u001b[0;32m      5\u001b[0m     \u001b[0mdir_path\u001b[0m \u001b[1;33m=\u001b[0m \u001b[0mos\u001b[0m\u001b[1;33m.\u001b[0m\u001b[0mgetcwd\u001b[0m\u001b[1;33m(\u001b[0m\u001b[1;33m)\u001b[0m\u001b[1;33m\u001b[0m\u001b[1;33m\u001b[0m\u001b[0m\n\u001b[0;32m      6\u001b[0m     \u001b[0mcsv_path\u001b[0m \u001b[1;33m=\u001b[0m \u001b[0mos\u001b[0m\u001b[1;33m.\u001b[0m\u001b[0mpath\u001b[0m\u001b[1;33m.\u001b[0m\u001b[0mjoin\u001b[0m\u001b[1;33m(\u001b[0m\u001b[0mdir_path\u001b[0m\u001b[1;33m,\u001b[0m \u001b[0mfilename\u001b[0m\u001b[1;33m)\u001b[0m\u001b[1;33m\u001b[0m\u001b[1;33m\u001b[0m\u001b[0m\n\u001b[1;32m----> 7\u001b[1;33m     \u001b[1;32mif\u001b[0m\u001b[1;33m(\u001b[0m\u001b[0mpd\u001b[0m\u001b[1;33m.\u001b[0m\u001b[0mread_csv\u001b[0m\u001b[1;33m(\u001b[0m\u001b[0mcsv_path\u001b[0m\u001b[1;33m)\u001b[0m\u001b[1;33m)\u001b[0m\u001b[1;33m:\u001b[0m\u001b[1;33m\u001b[0m\u001b[1;33m\u001b[0m\u001b[0m\n\u001b[0m\u001b[0;32m      8\u001b[0m         \u001b[0mdata\u001b[0m \u001b[1;33m=\u001b[0m \u001b[0mpd\u001b[0m\u001b[1;33m.\u001b[0m\u001b[0mread_csv\u001b[0m\u001b[1;33m(\u001b[0m\u001b[0mcsv_path\u001b[0m\u001b[1;33m)\u001b[0m\u001b[1;33m\u001b[0m\u001b[1;33m\u001b[0m\u001b[0m\n\u001b[0;32m      9\u001b[0m         \u001b[0mdata\u001b[0m\u001b[1;33m.\u001b[0m\u001b[0mhead\u001b[0m\u001b[1;33m(\u001b[0m\u001b[1;33m)\u001b[0m\u001b[1;33m\u001b[0m\u001b[1;33m\u001b[0m\u001b[0m\n",
      "\u001b[1;32mG:\\Anaconda\\lib\\site-packages\\pandas\\core\\generic.py\u001b[0m in \u001b[0;36m__nonzero__\u001b[1;34m(self)\u001b[0m\n\u001b[0;32m   1476\u001b[0m         raise ValueError(\"The truth value of a {0} is ambiguous. \"\n\u001b[0;32m   1477\u001b[0m                          \u001b[1;34m\"Use a.empty, a.bool(), a.item(), a.any() or a.all().\"\u001b[0m\u001b[1;33m\u001b[0m\u001b[1;33m\u001b[0m\u001b[0m\n\u001b[1;32m-> 1478\u001b[1;33m                          .format(self.__class__.__name__))\n\u001b[0m\u001b[0;32m   1479\u001b[0m \u001b[1;33m\u001b[0m\u001b[0m\n\u001b[0;32m   1480\u001b[0m     \u001b[0m__bool__\u001b[0m \u001b[1;33m=\u001b[0m \u001b[0m__nonzero__\u001b[0m\u001b[1;33m\u001b[0m\u001b[1;33m\u001b[0m\u001b[0m\n",
      "\u001b[1;31mValueError\u001b[0m: The truth value of a DataFrame is ambiguous. Use a.empty, a.bool(), a.item(), a.any() or a.all()."
     ]
    }
   ],
   "source": [
    "read_from_csv()"
   ]
  },
  {
   "cell_type": "markdown",
   "metadata": {},
   "source": [
    "# DC Load Flow Analysis"
   ]
  },
  {
   "cell_type": "code",
   "execution_count": null,
   "metadata": {},
   "outputs": [],
   "source": []
  }
 ],
 "metadata": {
  "kernelspec": {
   "display_name": "Python 3",
   "language": "python",
   "name": "python3"
  },
  "language_info": {
   "codemirror_mode": {
    "name": "ipython",
    "version": 3
   },
   "file_extension": ".py",
   "mimetype": "text/x-python",
   "name": "python",
   "nbconvert_exporter": "python",
   "pygments_lexer": "ipython3",
   "version": "3.7.3"
  }
 },
 "nbformat": 4,
 "nbformat_minor": 2
}
