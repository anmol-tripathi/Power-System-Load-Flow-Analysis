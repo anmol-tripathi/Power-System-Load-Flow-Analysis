{
 "cells": [
  {
   "cell_type": "markdown",
   "metadata": {},
   "source": [
    "# Power System Analysis: Load Flow Techniques"
   ]
  },
  {
   "cell_type": "markdown",
   "metadata": {},
   "source": [
    "This Notebook is made by:<br> <br> <b> Anmol Tripathi </b>, <br> B.tech Electrical Engineering, <br>Institute of Technology, Nirma University,<br> Ahmedabad, India"
   ]
  },
  {
   "cell_type": "markdown",
   "metadata": {},
   "source": [
    "## Load Flow: A power system snapshot analysis"
   ]
  },
  {
   "cell_type": "markdown",
   "metadata": {},
   "source": [
    "...<br>....<br>...."
   ]
  },
  {
   "cell_type": "markdown",
   "metadata": {},
   "source": [
    "### Load Flow "
   ]
  },
  {
   "cell_type": "markdown",
   "metadata": {},
   "source": [
    "<b> Introduction<br>\n",
    "<del> Ybus Formation </del> <br>\n",
    "Gauss Siedel Method <br>\n",
    "DC Load Flow Analysis <br>\n",
    "Gauss Itterative Method <br>\n",
    "Newton Raphson Method Polar<br>\n",
    "Newton Raphson Method Rectangular<br>\n",
    "Decoupled Method <br>\n",
    "Fast Decoupled Method <br></b>"
   ]
  },
  {
   "cell_type": "markdown",
   "metadata": {},
   "source": [
    "### Economic Load Dispatch"
   ]
  },
  {
   "cell_type": "markdown",
   "metadata": {},
   "source": [
    "<b> Newton Raphson Method<br>\n",
    "Advanced Methodologies<br></b>"
   ]
  },
  {
   "cell_type": "markdown",
   "metadata": {},
   "source": [
    "# Contents"
   ]
  },
  {
   "cell_type": "markdown",
   "metadata": {},
   "source": [
    "* [Introduction](#Introduction) <br>\n",
    "\n",
    "* [Handling data](#Handling-data) <br>\n",
    "> [Line and Bus Data](#Line-and-bus-data) <br>\n",
    ">> [Entering the Line Data](#Entering-the-line-data) <br>\n",
    ">> [Writing the line data to a CSV file](#Writing-the-line-data-to-a-CSV-file) <br>\n",
    ">> [Reading the line data from a CSV file](#Reading-the-line-data-from-a-CSV-file) <br>\n",
    "\n",
    "* [Y<sub>bus</sub> and Z<sub>bus</sub> Formation](#Ybus-formation) <br>\n",
    "* [DC Loadflow Analysis](#DC-Load-Flow-Analysis) <br>\n",
    "\n",
    "...<br>....<br>...."
   ]
  },
  {
   "cell_type": "markdown",
   "metadata": {},
   "source": [
    "# Introduction"
   ]
  },
  {
   "cell_type": "markdown",
   "metadata": {},
   "source": [
    "Assumptions made while performing load flow:\n",
    "* Line Resistance being small, are neglected, i.e. Active power loss in the system is zero\n",
    "* Considering stability, hence \n",
    "$\\sin(\\delta_i - \\delta_k) \\approx (\\delta_i - \\delta_k)$ (As, for small values of $\\theta$, $\\sin\\theta \\approx \\theta$)\n",
    "\n",
    "<br>...<br>....<br>...."
   ]
  },
  {
   "cell_type": "code",
   "execution_count": 2,
   "metadata": {},
   "outputs": [],
   "source": [
    "import numpy as np\n",
    "import os\n",
    "import cmath\n",
    "import csv\n",
    "import pandas as pd\n",
    "import queue\n",
    "from tkinter import *\n",
    "import tkinter.messagebox"
   ]
  },
  {
   "cell_type": "markdown",
   "metadata": {},
   "source": [
    "# Handling data"
   ]
  },
  {
   "cell_type": "markdown",
   "metadata": {},
   "source": [
    "<br>...<br>....<br>.... About line and Bus data"
   ]
  },
  {
   "cell_type": "markdown",
   "metadata": {},
   "source": [
    "## Line data"
   ]
  },
  {
   "cell_type": "markdown",
   "metadata": {},
   "source": [
    "### Entering the line data"
   ]
  },
  {
   "cell_type": "markdown",
   "metadata": {},
   "source": [
    "<br>...<br>....<br>.... <br> WORKING ON GUI Based"
   ]
  },
  {
   "cell_type": "code",
   "execution_count": 13,
   "metadata": {},
   "outputs": [],
   "source": [
    "def enter_line_data():\n",
    "    nb = int(input(\"Enter the number of Buses: \")) \n",
    "    nl = int(input(\"Enter the number of Lines: \"))\n",
    "    from_bus = []\n",
    "    to_bus = []\n",
    "    R = []\n",
    "    X = []\n",
    "    Z = []\n",
    "    Y = []\n",
    "    B_half = []\n",
    "    turns_ratio = []\n",
    "    for i in range(0,nl):\n",
    "        print(\"\\n\\n Entry Number: \", i+1)\n",
    "        x = float(input(\"\\n Enter the from bus: \"))\n",
    "        if(x<=nb):\n",
    "            from_bus.append(x)\n",
    "        x = float(input(\"\\n Enter the to bus: \"))\n",
    "        if(x<=nb):\n",
    "            to_bus.append(x)\n",
    "        x = float(input(\"\\n Enter the Line Resistance: \"))\n",
    "        R.append(x)\n",
    "        x = float(input(\"\\n Enter the Line Reactance: \"))\n",
    "        X.append(x)\n",
    "        x = float(input(\"\\n Enter the Line B/2: i\"))\n",
    "        x = complex(0,x)\n",
    "        B_half.append(x)\n",
    "        x = complex(R[i],X[i])\n",
    "        g = complex(\"{0:.2f}\".format(x))\n",
    "        Z.append(g)\n",
    "        print(\"\\n Line Impedence = \", Z[i])\n",
    "        Y.append(1/Z[i])\n",
    "        print(\"\\n Line Admittance = \", Y[i])\n",
    "        x = float(input(\"\\n Enter the turns ratio: \"))\n",
    "        turns_ratio.append(x)\n",
    "    data_matrix = [(from_bus[i], to_bus[i], R[i], X[i], B_half[i], Y[i], turns_ratio[i]) for i in range(0, nl)] \n",
    "    data_matrix = pd.DataFrame(data_matrix, columns=['From_Bus','To_Bus','R','X','B_half','Y','Turns_Ratio'])\n",
    "    return data_matrix"
   ]
  },
  {
   "cell_type": "code",
   "execution_count": 12,
   "metadata": {},
   "outputs": [
    {
     "name": "stdout",
     "output_type": "stream",
     "text": [
      "Enter the number of Buses: 6\n",
      "Enter the number of Lines: 11\n",
      "\n",
      "\n",
      " Entry Number:  1\n",
      "\n",
      " Enter the from bus: 1\n",
      "\n",
      " Enter the to bus: 2\n",
      "\n",
      " Enter the Line Resistance: 0.10\n",
      "\n",
      " Enter the Line Reactance: 0.20\n",
      "\n",
      " Enter the Line B/2: i0.02\n",
      "\n",
      " Line Impedence =  (0.1+0.2j)\n",
      "\n",
      " Line Admittance =  (2-4j)\n",
      "\n",
      " Enter the turns ratio: 1\n",
      "\n",
      "\n",
      " Entry Number:  2\n",
      "\n",
      " Enter the from bus: 1\n",
      "\n",
      " Enter the to bus: 4\n",
      "\n",
      " Enter the Line Resistance: 0.05\n",
      "\n",
      " Enter the Line Reactance: 0.20\n",
      "\n",
      " Enter the Line B/2: i0.02\n",
      "\n",
      " Line Impedence =  (0.05+0.2j)\n",
      "\n",
      " Line Admittance =  (1.176470588235294-4.705882352941176j)\n",
      "\n",
      " Enter the turns ratio: 1\n",
      "\n",
      "\n",
      " Entry Number:  3\n",
      "\n",
      " Enter the from bus: 1\n",
      "\n",
      " Enter the to bus: 5\n",
      "\n",
      " Enter the Line Resistance: 0.08\n",
      "\n",
      " Enter the Line Reactance: 0.30\n",
      "\n",
      " Enter the Line B/2: i0.03\n",
      "\n",
      " Line Impedence =  (0.08+0.3j)\n",
      "\n",
      " Line Admittance =  (0.8298755186721992-3.1120331950207474j)\n",
      "\n",
      " Enter the turns ratio: 1\n",
      "\n",
      "\n",
      " Entry Number:  4\n",
      "\n",
      " Enter the from bus: 2\n",
      "\n",
      " Enter the to bus: 3\n",
      "\n",
      " Enter the Line Resistance: 0.05\n",
      "\n",
      " Enter the Line Reactance: 0.25\n",
      "\n",
      " Enter the Line B/2: i0.03\n",
      "\n",
      " Line Impedence =  (0.05+0.25j)\n",
      "\n",
      " Line Admittance =  (0.7692307692307693-3.846153846153846j)\n",
      "\n",
      " Enter the turns ratio: 1\n",
      "\n",
      "\n",
      " Entry Number:  5\n",
      "\n",
      " Enter the from bus: 2\n",
      "\n",
      " Enter the to bus: 4\n",
      "\n",
      " Enter the Line Resistance: 0.05\n",
      "\n",
      " Enter the Line Reactance: 0.10\n",
      "\n",
      " Enter the Line B/2: i0.01\n",
      "\n",
      " Line Impedence =  (0.05+0.1j)\n",
      "\n",
      " Line Admittance =  (4-8j)\n",
      "\n",
      " Enter the turns ratio: 1\n",
      "\n",
      "\n",
      " Entry Number:  6\n",
      "\n",
      " Enter the from bus: 2\n",
      "\n",
      " Enter the to bus: 5\n",
      "\n",
      " Enter the Line Resistance: 0.10\n",
      "\n",
      " Enter the Line Reactance: 0.30\n",
      "\n",
      " Enter the Line B/2: i0.02\n",
      "\n",
      " Line Impedence =  (0.1+0.3j)\n",
      "\n",
      " Line Admittance =  (1.0000000000000002-3j)\n",
      "\n",
      " Enter the turns ratio: 1\n",
      "\n",
      "\n",
      " Entry Number:  7\n",
      "\n",
      " Enter the from bus: 2\n",
      "\n",
      " Enter the to bus: 6\n",
      "\n",
      " Enter the Line Resistance: 0.07\n",
      "\n",
      " Enter the Line Reactance: 0.20\n",
      "\n",
      " Enter the Line B/2: i0.025\n",
      "\n",
      " Line Impedence =  (0.07+0.2j)\n",
      "\n",
      " Line Admittance =  (1.55902004454343-4.4543429844097995j)\n",
      "\n",
      " Enter the turns ratio: 1\n",
      "\n",
      "\n",
      " Entry Number:  8\n",
      "\n",
      " Enter the from bus: 3\n",
      "\n",
      " Enter the to bus: 5\n",
      "\n",
      " Enter the Line Resistance: 0.12\n",
      "\n",
      " Enter the Line Reactance: 0.26\n",
      "\n",
      " Enter the Line B/2: i0.025\n",
      "\n",
      " Line Impedence =  (0.12+0.26j)\n",
      "\n",
      " Line Admittance =  (1.4634146341463414-3.1707317073170733j)\n",
      "\n",
      " Enter the turns ratio: 1\n",
      "\n",
      "\n",
      " Entry Number:  9\n",
      "\n",
      " Enter the from bus: 3\n",
      "\n",
      " Enter the to bus: 6\n",
      "\n",
      " Enter the Line Resistance: 0.02\n",
      "\n",
      " Enter the Line Reactance: 0.10\n",
      "\n",
      " Enter the Line B/2: i0.01\n",
      "\n",
      " Line Impedence =  (0.02+0.1j)\n",
      "\n",
      " Line Admittance =  (1.9230769230769227-9.615384615384615j)\n",
      "\n",
      " Enter the turns ratio: 1\n",
      "\n",
      "\n",
      " Entry Number:  10\n",
      "\n",
      " Enter the from bus: 4\n",
      "\n",
      " Enter the to bus: 5\n",
      "\n",
      " Enter the Line Resistance: 0.20\n",
      "\n",
      " Enter the Line Reactance: 0.40\n",
      "\n",
      " Enter the Line B/2: i0.04\n",
      "\n",
      " Line Impedence =  (0.2+0.4j)\n",
      "\n",
      " Line Admittance =  (1-2j)\n",
      "\n",
      " Enter the turns ratio: 1\n",
      "\n",
      "\n",
      " Entry Number:  11\n",
      "\n",
      " Enter the from bus: 5\n",
      "\n",
      " Enter the to bus: 6\n",
      "\n",
      " Enter the Line Resistance: 0.10\n",
      "\n",
      " Enter the Line Reactance: 0.30\n",
      "\n",
      " Enter the Line B/2: i0.03\n",
      "\n",
      " Line Impedence =  (0.1+0.3j)\n",
      "\n",
      " Line Admittance =  (1.0000000000000002-3j)\n",
      "\n",
      " Enter the turns ratio: 1\n"
     ]
    }
   ],
   "source": [
    "data_matrix = enter_line_data()"
   ]
  },
  {
   "cell_type": "code",
   "execution_count": 13,
   "metadata": {},
   "outputs": [
    {
     "data": {
      "text/html": [
       "<div>\n",
       "<style scoped>\n",
       "    .dataframe tbody tr th:only-of-type {\n",
       "        vertical-align: middle;\n",
       "    }\n",
       "\n",
       "    .dataframe tbody tr th {\n",
       "        vertical-align: top;\n",
       "    }\n",
       "\n",
       "    .dataframe thead th {\n",
       "        text-align: right;\n",
       "    }\n",
       "</style>\n",
       "<table border=\"1\" class=\"dataframe\">\n",
       "  <thead>\n",
       "    <tr style=\"text-align: right;\">\n",
       "      <th></th>\n",
       "      <th>From_Bus</th>\n",
       "      <th>To_Bus</th>\n",
       "      <th>R</th>\n",
       "      <th>X</th>\n",
       "      <th>B_half</th>\n",
       "      <th>Y</th>\n",
       "      <th>Turns_Ratio</th>\n",
       "    </tr>\n",
       "  </thead>\n",
       "  <tbody>\n",
       "    <tr>\n",
       "      <th>0</th>\n",
       "      <td>1.0</td>\n",
       "      <td>2.0</td>\n",
       "      <td>0.10</td>\n",
       "      <td>0.20</td>\n",
       "      <td>0.02j</td>\n",
       "      <td>(2-4j)</td>\n",
       "      <td>1.0</td>\n",
       "    </tr>\n",
       "    <tr>\n",
       "      <th>1</th>\n",
       "      <td>1.0</td>\n",
       "      <td>4.0</td>\n",
       "      <td>0.05</td>\n",
       "      <td>0.20</td>\n",
       "      <td>0.02j</td>\n",
       "      <td>(1.176470588235294-4.705882352941176j)</td>\n",
       "      <td>1.0</td>\n",
       "    </tr>\n",
       "    <tr>\n",
       "      <th>2</th>\n",
       "      <td>1.0</td>\n",
       "      <td>5.0</td>\n",
       "      <td>0.08</td>\n",
       "      <td>0.30</td>\n",
       "      <td>0.03j</td>\n",
       "      <td>(0.8298755186721992-3.1120331950207474j)</td>\n",
       "      <td>1.0</td>\n",
       "    </tr>\n",
       "    <tr>\n",
       "      <th>3</th>\n",
       "      <td>2.0</td>\n",
       "      <td>3.0</td>\n",
       "      <td>0.05</td>\n",
       "      <td>0.25</td>\n",
       "      <td>0.03j</td>\n",
       "      <td>(0.7692307692307693-3.846153846153846j)</td>\n",
       "      <td>1.0</td>\n",
       "    </tr>\n",
       "    <tr>\n",
       "      <th>4</th>\n",
       "      <td>2.0</td>\n",
       "      <td>4.0</td>\n",
       "      <td>0.05</td>\n",
       "      <td>0.10</td>\n",
       "      <td>0.01j</td>\n",
       "      <td>(4-8j)</td>\n",
       "      <td>1.0</td>\n",
       "    </tr>\n",
       "    <tr>\n",
       "      <th>5</th>\n",
       "      <td>2.0</td>\n",
       "      <td>5.0</td>\n",
       "      <td>0.10</td>\n",
       "      <td>0.30</td>\n",
       "      <td>0.02j</td>\n",
       "      <td>(1.0000000000000002-3j)</td>\n",
       "      <td>1.0</td>\n",
       "    </tr>\n",
       "    <tr>\n",
       "      <th>6</th>\n",
       "      <td>2.0</td>\n",
       "      <td>6.0</td>\n",
       "      <td>0.07</td>\n",
       "      <td>0.20</td>\n",
       "      <td>0.025j</td>\n",
       "      <td>(1.55902004454343-4.4543429844097995j)</td>\n",
       "      <td>1.0</td>\n",
       "    </tr>\n",
       "    <tr>\n",
       "      <th>7</th>\n",
       "      <td>3.0</td>\n",
       "      <td>5.0</td>\n",
       "      <td>0.12</td>\n",
       "      <td>0.26</td>\n",
       "      <td>0.025j</td>\n",
       "      <td>(1.4634146341463414-3.1707317073170733j)</td>\n",
       "      <td>1.0</td>\n",
       "    </tr>\n",
       "    <tr>\n",
       "      <th>8</th>\n",
       "      <td>3.0</td>\n",
       "      <td>6.0</td>\n",
       "      <td>0.02</td>\n",
       "      <td>0.10</td>\n",
       "      <td>0.01j</td>\n",
       "      <td>(1.9230769230769227-9.615384615384615j)</td>\n",
       "      <td>1.0</td>\n",
       "    </tr>\n",
       "    <tr>\n",
       "      <th>9</th>\n",
       "      <td>4.0</td>\n",
       "      <td>5.0</td>\n",
       "      <td>0.20</td>\n",
       "      <td>0.40</td>\n",
       "      <td>0.04j</td>\n",
       "      <td>(1-2j)</td>\n",
       "      <td>1.0</td>\n",
       "    </tr>\n",
       "    <tr>\n",
       "      <th>10</th>\n",
       "      <td>5.0</td>\n",
       "      <td>6.0</td>\n",
       "      <td>0.10</td>\n",
       "      <td>0.30</td>\n",
       "      <td>0.03j</td>\n",
       "      <td>(1.0000000000000002-3j)</td>\n",
       "      <td>1.0</td>\n",
       "    </tr>\n",
       "  </tbody>\n",
       "</table>\n",
       "</div>"
      ],
      "text/plain": [
       "    From_Bus  To_Bus     R     X  B_half  \\\n",
       "0        1.0     2.0  0.10  0.20   0.02j   \n",
       "1        1.0     4.0  0.05  0.20   0.02j   \n",
       "2        1.0     5.0  0.08  0.30   0.03j   \n",
       "3        2.0     3.0  0.05  0.25   0.03j   \n",
       "4        2.0     4.0  0.05  0.10   0.01j   \n",
       "5        2.0     5.0  0.10  0.30   0.02j   \n",
       "6        2.0     6.0  0.07  0.20  0.025j   \n",
       "7        3.0     5.0  0.12  0.26  0.025j   \n",
       "8        3.0     6.0  0.02  0.10   0.01j   \n",
       "9        4.0     5.0  0.20  0.40   0.04j   \n",
       "10       5.0     6.0  0.10  0.30   0.03j   \n",
       "\n",
       "                                           Y  Turns_Ratio  \n",
       "0                                     (2-4j)          1.0  \n",
       "1     (1.176470588235294-4.705882352941176j)          1.0  \n",
       "2   (0.8298755186721992-3.1120331950207474j)          1.0  \n",
       "3    (0.7692307692307693-3.846153846153846j)          1.0  \n",
       "4                                     (4-8j)          1.0  \n",
       "5                    (1.0000000000000002-3j)          1.0  \n",
       "6     (1.55902004454343-4.4543429844097995j)          1.0  \n",
       "7   (1.4634146341463414-3.1707317073170733j)          1.0  \n",
       "8    (1.9230769230769227-9.615384615384615j)          1.0  \n",
       "9                                     (1-2j)          1.0  \n",
       "10                   (1.0000000000000002-3j)          1.0  "
      ]
     },
     "execution_count": 13,
     "metadata": {},
     "output_type": "execute_result"
    }
   ],
   "source": [
    "data_matrix"
   ]
  },
  {
   "cell_type": "markdown",
   "metadata": {},
   "source": [
    "### Writing the line data to a CSV file"
   ]
  },
  {
   "cell_type": "markdown",
   "metadata": {},
   "source": [
    "<br>...<br>....<br>...."
   ]
  },
  {
   "cell_type": "code",
   "execution_count": 14,
   "metadata": {},
   "outputs": [],
   "source": [
    "def line_write_to_csv(data_matrix):\n",
    "    dir_path = os.getcwd()\n",
    "    filename = input(\"Enter the Filename: \")\n",
    "    filename = filename + '.csv'\n",
    "    export_csv = data_matrix.to_csv (os.path.join(dir_path,filename), index = None, header=True)"
   ]
  },
  {
   "cell_type": "code",
   "execution_count": 17,
   "metadata": {},
   "outputs": [
    {
     "name": "stdout",
     "output_type": "stream",
     "text": [
      "Enter the Filename: line_data\n"
     ]
    }
   ],
   "source": [
    "line_write_to_csv(data_matrix)"
   ]
  },
  {
   "cell_type": "markdown",
   "metadata": {},
   "source": [
    "### Reading the line data from a CSV file"
   ]
  },
  {
   "cell_type": "markdown",
   "metadata": {},
   "source": [
    "<br>...<br>....<br>...."
   ]
  },
  {
   "cell_type": "code",
   "execution_count": 3,
   "metadata": {},
   "outputs": [],
   "source": [
    "# Bus Data Example:\n",
    "#           |  From |  To   |   R   |   X   |   B/2 |  Turns Ratio |\n",
    "#           |  Bus  | Bus   |       |       |       |              |\n",
    "# linedata = [ 1      2       0.10    0.20     0.02         1;\n",
    "#              1      4       0.05    0.20     0.02         1;\n",
    "#              1      5       0.08    0.30     0.03         1;\n",
    "#              2      3       0.05    0.25     0.03         1;\n",
    "#              2      4       0.05    0.10     0.01         1;\n",
    "#              2      5       0.10    0.30     0.02         1;\n",
    "#              2      6       0.07    0.20     0.025        1;\n",
    "#              3      5       0.12    0.26     0.025        1;\n",
    "#              3      6       0.02    0.10     0.01         1;\n",
    "#              4      5       0.20    0.40     0.04         1;\n",
    "#              5      6       0.10    0.30     0.03         1;];\n",
    "\n",
    "def line_read_from_csv():\n",
    "    print(\"\\n\\n Please make sure that the CSV has data in following format: \\n\\n\\n From Bus\\tTo Bus\\t R\\tX\\tZ\\tG\\tB\\tY\\tTurns Ratio\\n \\n\\n Note: The csv file should be in the same directory\")\n",
    "    filename = input(\"\\n Enter the CSV Filename:  \")\n",
    "    filename = filename + '.csv' \n",
    "    dir_path = os.getcwd()\n",
    "    csv_path = os.path.join(dir_path, filename)\n",
    "    data = pd.read_csv(csv_path)\n",
    "    data.head()\n",
    "    return(data)"
   ]
  },
  {
   "cell_type": "code",
   "execution_count": 4,
   "metadata": {},
   "outputs": [
    {
     "name": "stdout",
     "output_type": "stream",
     "text": [
      "\n",
      "\n",
      " Please make sure that the CSV has data in following format: \n",
      "\n",
      "\n",
      " From Bus\tTo Bus\t R\tX\tZ\tG\tB\tY\tTurns Ratio\n",
      " \n",
      "\n",
      " Note: The csv file should be in the same directory\n",
      "\n",
      " Enter the CSV Filename:  line_data\n"
     ]
    },
    {
     "data": {
      "text/html": [
       "<div>\n",
       "<style scoped>\n",
       "    .dataframe tbody tr th:only-of-type {\n",
       "        vertical-align: middle;\n",
       "    }\n",
       "\n",
       "    .dataframe tbody tr th {\n",
       "        vertical-align: top;\n",
       "    }\n",
       "\n",
       "    .dataframe thead th {\n",
       "        text-align: right;\n",
       "    }\n",
       "</style>\n",
       "<table border=\"1\" class=\"dataframe\">\n",
       "  <thead>\n",
       "    <tr style=\"text-align: right;\">\n",
       "      <th></th>\n",
       "      <th>From_Bus</th>\n",
       "      <th>To_Bus</th>\n",
       "      <th>R</th>\n",
       "      <th>X</th>\n",
       "      <th>B_half</th>\n",
       "      <th>Y</th>\n",
       "      <th>Turns_Ratio</th>\n",
       "    </tr>\n",
       "  </thead>\n",
       "  <tbody>\n",
       "    <tr>\n",
       "      <th>0</th>\n",
       "      <td>1.0</td>\n",
       "      <td>2.0</td>\n",
       "      <td>0.10</td>\n",
       "      <td>0.20</td>\n",
       "      <td>0.02j</td>\n",
       "      <td>(2-4j)</td>\n",
       "      <td>1.0</td>\n",
       "    </tr>\n",
       "    <tr>\n",
       "      <th>1</th>\n",
       "      <td>1.0</td>\n",
       "      <td>4.0</td>\n",
       "      <td>0.05</td>\n",
       "      <td>0.20</td>\n",
       "      <td>0.02j</td>\n",
       "      <td>(1.176470588235294-4.705882352941176j)</td>\n",
       "      <td>1.0</td>\n",
       "    </tr>\n",
       "    <tr>\n",
       "      <th>2</th>\n",
       "      <td>1.0</td>\n",
       "      <td>5.0</td>\n",
       "      <td>0.08</td>\n",
       "      <td>0.30</td>\n",
       "      <td>0.03j</td>\n",
       "      <td>(0.8298755186721992-3.1120331950207474j)</td>\n",
       "      <td>1.0</td>\n",
       "    </tr>\n",
       "    <tr>\n",
       "      <th>3</th>\n",
       "      <td>2.0</td>\n",
       "      <td>3.0</td>\n",
       "      <td>0.05</td>\n",
       "      <td>0.25</td>\n",
       "      <td>0.03j</td>\n",
       "      <td>(0.7692307692307693-3.846153846153846j)</td>\n",
       "      <td>1.0</td>\n",
       "    </tr>\n",
       "    <tr>\n",
       "      <th>4</th>\n",
       "      <td>2.0</td>\n",
       "      <td>4.0</td>\n",
       "      <td>0.05</td>\n",
       "      <td>0.10</td>\n",
       "      <td>0.01j</td>\n",
       "      <td>(4-8j)</td>\n",
       "      <td>1.0</td>\n",
       "    </tr>\n",
       "    <tr>\n",
       "      <th>5</th>\n",
       "      <td>2.0</td>\n",
       "      <td>5.0</td>\n",
       "      <td>0.10</td>\n",
       "      <td>0.30</td>\n",
       "      <td>0.02j</td>\n",
       "      <td>(1.0000000000000002-3j)</td>\n",
       "      <td>1.0</td>\n",
       "    </tr>\n",
       "    <tr>\n",
       "      <th>6</th>\n",
       "      <td>2.0</td>\n",
       "      <td>6.0</td>\n",
       "      <td>0.07</td>\n",
       "      <td>0.20</td>\n",
       "      <td>0.025j</td>\n",
       "      <td>(1.55902004454343-4.4543429844097995j)</td>\n",
       "      <td>1.0</td>\n",
       "    </tr>\n",
       "    <tr>\n",
       "      <th>7</th>\n",
       "      <td>3.0</td>\n",
       "      <td>5.0</td>\n",
       "      <td>0.12</td>\n",
       "      <td>0.26</td>\n",
       "      <td>0.025j</td>\n",
       "      <td>(1.4634146341463414-3.1707317073170733j)</td>\n",
       "      <td>1.0</td>\n",
       "    </tr>\n",
       "    <tr>\n",
       "      <th>8</th>\n",
       "      <td>3.0</td>\n",
       "      <td>6.0</td>\n",
       "      <td>0.02</td>\n",
       "      <td>0.10</td>\n",
       "      <td>0.01j</td>\n",
       "      <td>(1.9230769230769227-9.615384615384615j)</td>\n",
       "      <td>1.0</td>\n",
       "    </tr>\n",
       "    <tr>\n",
       "      <th>9</th>\n",
       "      <td>4.0</td>\n",
       "      <td>5.0</td>\n",
       "      <td>0.20</td>\n",
       "      <td>0.40</td>\n",
       "      <td>0.04j</td>\n",
       "      <td>(1-2j)</td>\n",
       "      <td>1.0</td>\n",
       "    </tr>\n",
       "    <tr>\n",
       "      <th>10</th>\n",
       "      <td>5.0</td>\n",
       "      <td>6.0</td>\n",
       "      <td>0.10</td>\n",
       "      <td>0.30</td>\n",
       "      <td>0.03j</td>\n",
       "      <td>(1.0000000000000002-3j)</td>\n",
       "      <td>1.0</td>\n",
       "    </tr>\n",
       "  </tbody>\n",
       "</table>\n",
       "</div>"
      ],
      "text/plain": [
       "    From_Bus  To_Bus     R     X  B_half  \\\n",
       "0        1.0     2.0  0.10  0.20   0.02j   \n",
       "1        1.0     4.0  0.05  0.20   0.02j   \n",
       "2        1.0     5.0  0.08  0.30   0.03j   \n",
       "3        2.0     3.0  0.05  0.25   0.03j   \n",
       "4        2.0     4.0  0.05  0.10   0.01j   \n",
       "5        2.0     5.0  0.10  0.30   0.02j   \n",
       "6        2.0     6.0  0.07  0.20  0.025j   \n",
       "7        3.0     5.0  0.12  0.26  0.025j   \n",
       "8        3.0     6.0  0.02  0.10   0.01j   \n",
       "9        4.0     5.0  0.20  0.40   0.04j   \n",
       "10       5.0     6.0  0.10  0.30   0.03j   \n",
       "\n",
       "                                           Y  Turns_Ratio  \n",
       "0                                     (2-4j)          1.0  \n",
       "1     (1.176470588235294-4.705882352941176j)          1.0  \n",
       "2   (0.8298755186721992-3.1120331950207474j)          1.0  \n",
       "3    (0.7692307692307693-3.846153846153846j)          1.0  \n",
       "4                                     (4-8j)          1.0  \n",
       "5                    (1.0000000000000002-3j)          1.0  \n",
       "6     (1.55902004454343-4.4543429844097995j)          1.0  \n",
       "7   (1.4634146341463414-3.1707317073170733j)          1.0  \n",
       "8    (1.9230769230769227-9.615384615384615j)          1.0  \n",
       "9                                     (1-2j)          1.0  \n",
       "10                   (1.0000000000000002-3j)          1.0  "
      ]
     },
     "execution_count": 4,
     "metadata": {},
     "output_type": "execute_result"
    }
   ],
   "source": [
    "data_matrix = line_read_from_csv()\n",
    "data_matrix"
   ]
  },
  {
   "cell_type": "markdown",
   "metadata": {},
   "source": [
    "## Bus Data"
   ]
  },
  {
   "cell_type": "markdown",
   "metadata": {},
   "source": [
    "<br>...<br>....<br>...."
   ]
  },
  {
   "cell_type": "markdown",
   "metadata": {},
   "source": [
    "### Reading the bus data from a CSV file"
   ]
  },
  {
   "cell_type": "markdown",
   "metadata": {},
   "source": [
    "<br>...<br>....<br>...."
   ]
  },
  {
   "cell_type": "code",
   "execution_count": 5,
   "metadata": {},
   "outputs": [],
   "source": [
    "#BUS DATA EXAMPLE:\n",
    "\n",
    "#           |Bus | Type | Vsp | theta | PGi | QGi | PLi | QLi | Qmin | Qmax |\n",
    "# busdata = [ 1   Slack  1.05     0     0.0    0    0      0      0      0;\n",
    "#             2    PV    1.05     0     0.5    0    0      0    -0.5   1.0;\n",
    "#             3    PV    1.07     0     0.6    0    0      0    -0.5   1.5;\n",
    "#             4    PQ    1.0      0     0.0    0    0.7    0.7     0     0;\n",
    "#             5    PQ    1.0      0     0.0    0    0.7    0.7     0     0;\n",
    "#             6    PQ    1.0      0     0.0    0    0.7    0.7     0     0 ];\n",
    "\n",
    "\n",
    "def bus_read_from_csv():\n",
    "    print(\"\\n\\n Please make sure that the CSV has data in following format: \\n\\n\\n Bus Number\\tBus Type\\tVsp\\ttheta\\tPgi\\tQgi\\tPdi\\tQdi\\tQmin\\tQmax \\n\\n Note: The csv file should be in the same directory\")\n",
    "    filename = input(\"\\n Enter the CSV Filename:  \")\n",
    "    filename = filename + '.csv'\n",
    "    dir_path = os.getcwd()\n",
    "    csv_path = os.path.join(dir_path, filename)\n",
    "    data = pd.read_csv(csv_path)\n",
    "    data.head()\n",
    "    return(data)"
   ]
  },
  {
   "cell_type": "code",
   "execution_count": 6,
   "metadata": {},
   "outputs": [
    {
     "name": "stdout",
     "output_type": "stream",
     "text": [
      "\n",
      "\n",
      " Please make sure that the CSV has data in following format: \n",
      "\n",
      "\n",
      " Bus Number\tBus Type\tVsp\ttheta\tPgi\tQgi\tPdi\tQdi\tQmin\tQmax \n",
      "\n",
      " Note: The csv file should be in the same directory\n",
      "\n",
      " Enter the CSV Filename:  bus_data\n"
     ]
    },
    {
     "data": {
      "text/html": [
       "<div>\n",
       "<style scoped>\n",
       "    .dataframe tbody tr th:only-of-type {\n",
       "        vertical-align: middle;\n",
       "    }\n",
       "\n",
       "    .dataframe tbody tr th {\n",
       "        vertical-align: top;\n",
       "    }\n",
       "\n",
       "    .dataframe thead th {\n",
       "        text-align: right;\n",
       "    }\n",
       "</style>\n",
       "<table border=\"1\" class=\"dataframe\">\n",
       "  <thead>\n",
       "    <tr style=\"text-align: right;\">\n",
       "      <th></th>\n",
       "      <th>Bus_no</th>\n",
       "      <th>Bus_type</th>\n",
       "      <th>Vsp</th>\n",
       "      <th>theta</th>\n",
       "      <th>Pgi</th>\n",
       "      <th>Qgi</th>\n",
       "      <th>Pdi</th>\n",
       "      <th>Qdi</th>\n",
       "      <th>Qmin</th>\n",
       "      <th>Qmax</th>\n",
       "    </tr>\n",
       "  </thead>\n",
       "  <tbody>\n",
       "    <tr>\n",
       "      <th>0</th>\n",
       "      <td>1</td>\n",
       "      <td>Slack</td>\n",
       "      <td>1.05</td>\n",
       "      <td>0</td>\n",
       "      <td>0.0</td>\n",
       "      <td>0</td>\n",
       "      <td>0.0</td>\n",
       "      <td>0.0</td>\n",
       "      <td>0.0</td>\n",
       "      <td>0.0</td>\n",
       "    </tr>\n",
       "    <tr>\n",
       "      <th>1</th>\n",
       "      <td>2</td>\n",
       "      <td>PV</td>\n",
       "      <td>1.05</td>\n",
       "      <td>0</td>\n",
       "      <td>0.5</td>\n",
       "      <td>0</td>\n",
       "      <td>0.0</td>\n",
       "      <td>0.0</td>\n",
       "      <td>-0.5</td>\n",
       "      <td>1.0</td>\n",
       "    </tr>\n",
       "    <tr>\n",
       "      <th>2</th>\n",
       "      <td>3</td>\n",
       "      <td>PV</td>\n",
       "      <td>1.07</td>\n",
       "      <td>0</td>\n",
       "      <td>0.6</td>\n",
       "      <td>0</td>\n",
       "      <td>0.0</td>\n",
       "      <td>0.0</td>\n",
       "      <td>-0.5</td>\n",
       "      <td>1.5</td>\n",
       "    </tr>\n",
       "    <tr>\n",
       "      <th>3</th>\n",
       "      <td>4</td>\n",
       "      <td>PQ</td>\n",
       "      <td>1.00</td>\n",
       "      <td>0</td>\n",
       "      <td>0.0</td>\n",
       "      <td>0</td>\n",
       "      <td>0.7</td>\n",
       "      <td>0.7</td>\n",
       "      <td>0.0</td>\n",
       "      <td>0.0</td>\n",
       "    </tr>\n",
       "    <tr>\n",
       "      <th>4</th>\n",
       "      <td>5</td>\n",
       "      <td>PQ</td>\n",
       "      <td>1.00</td>\n",
       "      <td>0</td>\n",
       "      <td>0.0</td>\n",
       "      <td>0</td>\n",
       "      <td>0.7</td>\n",
       "      <td>0.7</td>\n",
       "      <td>0.0</td>\n",
       "      <td>0.0</td>\n",
       "    </tr>\n",
       "    <tr>\n",
       "      <th>5</th>\n",
       "      <td>6</td>\n",
       "      <td>PQ</td>\n",
       "      <td>1.00</td>\n",
       "      <td>0</td>\n",
       "      <td>0.0</td>\n",
       "      <td>0</td>\n",
       "      <td>0.7</td>\n",
       "      <td>0.7</td>\n",
       "      <td>0.0</td>\n",
       "      <td>0.0</td>\n",
       "    </tr>\n",
       "  </tbody>\n",
       "</table>\n",
       "</div>"
      ],
      "text/plain": [
       "   Bus_no Bus_type   Vsp  theta  Pgi  Qgi  Pdi  Qdi  Qmin  Qmax\n",
       "0       1    Slack  1.05      0  0.0    0  0.0  0.0   0.0   0.0\n",
       "1       2       PV  1.05      0  0.5    0  0.0  0.0  -0.5   1.0\n",
       "2       3       PV  1.07      0  0.6    0  0.0  0.0  -0.5   1.5\n",
       "3       4       PQ  1.00      0  0.0    0  0.7  0.7   0.0   0.0\n",
       "4       5       PQ  1.00      0  0.0    0  0.7  0.7   0.0   0.0\n",
       "5       6       PQ  1.00      0  0.0    0  0.7  0.7   0.0   0.0"
      ]
     },
     "execution_count": 6,
     "metadata": {},
     "output_type": "execute_result"
    }
   ],
   "source": [
    "bus_read_from_csv()"
   ]
  },
  {
   "cell_type": "markdown",
   "metadata": {},
   "source": [
    "## Checking Matrix to be Symmetric"
   ]
  },
  {
   "cell_type": "markdown",
   "metadata": {},
   "source": [
    "...<br>\n",
    ",.."
   ]
  },
  {
   "cell_type": "code",
   "execution_count": 7,
   "metadata": {},
   "outputs": [],
   "source": [
    "def check_symmetric(a, tol=1e-8):\n",
    "    return np.all(np.abs(a-a.T) < tol)"
   ]
  },
  {
   "cell_type": "markdown",
   "metadata": {},
   "source": [
    "# Bus Incidence Matrix "
   ]
  },
  {
   "cell_type": "markdown",
   "metadata": {},
   "source": [
    "...<br>\n",
    "...<br>\n",
    "..."
   ]
  },
  {
   "cell_type": "code",
   "execution_count": 9,
   "metadata": {},
   "outputs": [],
   "source": [
    "def make_bus_incidence_matrix(datamatrix):\n",
    "    linedata = datamatrix\n",
    "    frombus = linedata.iloc[:,0].astype(int) #Because float isn't itteratable\n",
    "    tobus = linedata.iloc[:,1].astype(int)\n",
    "    no_bus = max(max(frombus),max(tobus)) #To find number of buses \n",
    "    bus_incidence = np.zeros((no_bus,no_bus)).astype(int)\n",
    "    for i in range(0,no_bus):\n",
    "        bus_incidence[frombus[i]][tobus[i]] = -1\n",
    "        bus_incidence[tobus[i]][frombus[i]] = -1\n",
    "    np.fill_diagonal(bus_incidence,1)\n",
    "    bus_incidence = np.delete(bus_incidence,0,0)\n",
    "    bus_incidence = np.delete(bus_incidence,0,1)\n",
    "    return bus_incidence"
   ]
  },
  {
   "cell_type": "code",
   "execution_count": 10,
   "metadata": {},
   "outputs": [
    {
     "name": "stdout",
     "output_type": "stream",
     "text": [
      "[[ 1 -1  0 -1 -1]\n",
      " [-1  1 -1 -1 -1]\n",
      " [ 0 -1  1  0  0]\n",
      " [-1 -1  0  1  0]\n",
      " [-1 -1  0  0  1]]\n"
     ]
    }
   ],
   "source": [
    "bus_incidence =  make_bus_incidence_matrix(data_matrix)\n",
    "print(bus_incidence)"
   ]
  },
  {
   "cell_type": "code",
   "execution_count": 24,
   "metadata": {},
   "outputs": [
    {
     "data": {
      "text/plain": [
       "True"
      ]
     },
     "execution_count": 24,
     "metadata": {},
     "output_type": "execute_result"
    }
   ],
   "source": [
    "check_symmetric(bus_incidence)"
   ]
  },
  {
   "cell_type": "markdown",
   "metadata": {},
   "source": [
    "# Y<sub>bus</sub> and Z<sub>bus</sub> Formation"
   ]
  },
  {
   "cell_type": "markdown",
   "metadata": {},
   "source": [
    "<br>...<br>....<br>....<br>...<br>....<br>...."
   ]
  },
  {
   "cell_type": "code",
   "execution_count": 76,
   "metadata": {},
   "outputs": [],
   "source": [
    "def make_ybus(datamatrix,bus_count_required):\n",
    "    linedata = datamatrix\n",
    "    frombus = linedata.iloc[:,0].astype(int) #Because float isn't itteratable\n",
    "    tobus = linedata.iloc[:,1].astype(int)\n",
    "    no_bus = max(max(frombus),max(tobus)) #To find number of buses \n",
    "    no_line = frombus.size\n",
    "    y_bus = np.zeros((no_bus,no_bus)).astype(complex)\n",
    "    for i in range(0,no_line):\n",
    "        y_bus[frombus[i]-1,tobus[i]-1] = -(complex(linedata.iloc[i,5]))\n",
    "        y_bus[tobus[i]-1,frombus[i]-1] = -(complex(linedata.iloc[i,5]))\n",
    "        y_bus[frombus[i]-1,frombus[i]-1] = y_bus[frombus[i]-1,frombus[i]-1] + (complex(linedata.iloc[i,5]))\n",
    "        y_bus[tobus[i]-1,tobus[i]-1] = y_bus[tobus[i]-1,tobus[i]-1] + (complex(linedata.iloc[i,5]))\n",
    "    #y_bus = np.delete(y_bus,0,0)\n",
    "    #y_bus = np.delete(y_bus,0,1)\n",
    "    print(\"Ybus Formed\")\n",
    "    if(bus_count_required==0):\n",
    "        return y_bus\n",
    "    elif(bus_count_required==1):\n",
    "        return y_bus,no_bus"
   ]
  },
  {
   "cell_type": "code",
   "execution_count": 77,
   "metadata": {},
   "outputs": [
    {
     "name": "stdout",
     "output_type": "stream",
     "text": [
      "0     1\n",
      "1     1\n",
      "2     1\n",
      "3     2\n",
      "4     2\n",
      "5     2\n",
      "6     2\n",
      "7     3\n",
      "8     3\n",
      "9     4\n",
      "10    5\n",
      "Name: From_Bus, dtype: int32\n",
      "Ybus Formed\n"
     ]
    }
   ],
   "source": [
    "ybus = make_ybus(data_matrix,0)"
   ]
  },
  {
   "cell_type": "code",
   "execution_count": 78,
   "metadata": {},
   "outputs": [
    {
     "data": {
      "text/plain": [
       "array([[ 4.00634611-11.81791555j, -2.         +4.j        ,\n",
       "         0.         +0.j        , -1.17647059 +4.70588235j,\n",
       "        -0.82987552 +3.1120332j ,  0.         +0.j        ],\n",
       "       [-2.         +4.j        ,  9.32825081-23.30049683j,\n",
       "        -0.76923077 +3.84615385j, -4.         +8.j        ,\n",
       "        -1.         +3.j        , -1.55902004 +4.45434298j],\n",
       "       [ 0.         +0.j        , -0.76923077 +3.84615385j,\n",
       "         4.15572233-16.63227017j,  0.         +0.j        ,\n",
       "        -1.46341463 +3.17073171j, -1.92307692 +9.61538462j],\n",
       "       [-1.17647059 +4.70588235j, -4.         +8.j        ,\n",
       "         0.         +0.j        ,  6.17647059-14.70588235j,\n",
       "        -1.         +2.j        ,  0.         +0.j        ],\n",
       "       [-0.82987552 +3.1120332j , -1.         +3.j        ,\n",
       "        -1.46341463 +3.17073171j, -1.         +2.j        ,\n",
       "         5.29329015-14.2827649j , -1.         +3.j        ],\n",
       "       [ 0.         +0.j        , -1.55902004 +4.45434298j,\n",
       "        -1.92307692 +9.61538462j,  0.         +0.j        ,\n",
       "        -1.         +3.j        ,  4.48209697-17.0697276j ]])"
      ]
     },
     "execution_count": 78,
     "metadata": {},
     "output_type": "execute_result"
    }
   ],
   "source": [
    "ybus"
   ]
  },
  {
   "cell_type": "code",
   "execution_count": 79,
   "metadata": {},
   "outputs": [
    {
     "data": {
      "text/plain": [
       "True"
      ]
     },
     "execution_count": 79,
     "metadata": {},
     "output_type": "execute_result"
    }
   ],
   "source": [
    "check_symmetric(ybus)"
   ]
  },
  {
   "cell_type": "code",
   "execution_count": 80,
   "metadata": {},
   "outputs": [],
   "source": [
    "def write_ybus_to_csv(ybus):\n",
    "    y_bus_df = pd.DataFrame(ybus)\n",
    "    dir_path = os.getcwd()\n",
    "    filename = input(\"Enter the Filename: \")\n",
    "    filename = filename + '.csv'\n",
    "    export_csv = y_bus_df.to_csv (os.path.join(dir_path,filename), index = None, header=True)\n",
    "    print(\"File Successfully Created\")"
   ]
  },
  {
   "cell_type": "code",
   "execution_count": 81,
   "metadata": {},
   "outputs": [
    {
     "name": "stdout",
     "output_type": "stream",
     "text": [
      "Enter the Filename: y_bus\n",
      "File Successfully Created\n"
     ]
    }
   ],
   "source": [
    "write_ybus_to_csv(ybus)"
   ]
  },
  {
   "cell_type": "code",
   "execution_count": 82,
   "metadata": {},
   "outputs": [
    {
     "data": {
      "text/plain": [
       "array([[-9.25397184e+13+2.46772582e+14j, -9.25397184e+13+2.46772582e+14j,\n",
       "        -9.25397184e+13+2.46772582e+14j, -9.25397184e+13+2.46772582e+14j,\n",
       "        -9.25397184e+13+2.46772582e+14j, -9.25397184e+13+2.46772582e+14j],\n",
       "       [-9.25397184e+13+2.46772582e+14j, -9.25397184e+13+2.46772582e+14j,\n",
       "        -9.25397184e+13+2.46772582e+14j, -9.25397184e+13+2.46772582e+14j,\n",
       "        -9.25397184e+13+2.46772582e+14j, -9.25397184e+13+2.46772582e+14j],\n",
       "       [-9.25397184e+13+2.46772582e+14j, -9.25397184e+13+2.46772582e+14j,\n",
       "        -9.25397184e+13+2.46772582e+14j, -9.25397184e+13+2.46772582e+14j,\n",
       "        -9.25397184e+13+2.46772582e+14j, -9.25397184e+13+2.46772582e+14j],\n",
       "       [-9.25397184e+13+2.46772582e+14j, -9.25397184e+13+2.46772582e+14j,\n",
       "        -9.25397184e+13+2.46772582e+14j, -9.25397184e+13+2.46772582e+14j,\n",
       "        -9.25397184e+13+2.46772582e+14j, -9.25397184e+13+2.46772582e+14j],\n",
       "       [-9.25397184e+13+2.46772582e+14j, -9.25397184e+13+2.46772582e+14j,\n",
       "        -9.25397184e+13+2.46772582e+14j, -9.25397184e+13+2.46772582e+14j,\n",
       "        -9.25397184e+13+2.46772582e+14j, -9.25397184e+13+2.46772582e+14j],\n",
       "       [-9.25397184e+13+2.46772582e+14j, -9.25397184e+13+2.46772582e+14j,\n",
       "        -9.25397184e+13+2.46772582e+14j, -9.25397184e+13+2.46772582e+14j,\n",
       "        -9.25397184e+13+2.46772582e+14j, -9.25397184e+13+2.46772582e+14j]])"
      ]
     },
     "execution_count": 82,
     "metadata": {},
     "output_type": "execute_result"
    }
   ],
   "source": [
    "ybus_shape  = ybus.shape[0]\n",
    "zbus = np.zeros(ybus_shape)\n",
    "try:\n",
    "    zbus = np.linalg.inv(ybus)\n",
    "except:\n",
    "    print(\"Given matrix is SINGULAR\")\n",
    "    try:\n",
    "        print(\"Trying Pseudoinverse\")\n",
    "        zbus = np.linalg.pinv(ybus)\n",
    "    except:\n",
    "        print(\"Inverse Not Possible!\")\n",
    "zbus"
   ]
  },
  {
   "cell_type": "code",
   "execution_count": 52,
   "metadata": {},
   "outputs": [],
   "source": [
    "def write_zbus_to_csv(zbus):\n",
    "    z_bus_df = pd.DataFrame(zbus)\n",
    "    dir_path = os.getcwd()\n",
    "    filename = input(\"Enter the Filename: \")\n",
    "    filename = filename + '.csv'\n",
    "    export_csv = z_bus_df.to_csv (os.path.join(dir_path,filename), index = None, header=True)\n",
    "    print(\"File Successfully Created\")\n",
    "    return z_bus_df"
   ]
  },
  {
   "cell_type": "code",
   "execution_count": 53,
   "metadata": {},
   "outputs": [
    {
     "name": "stdout",
     "output_type": "stream",
     "text": [
      "Enter the Filename: z_bus\n",
      "File Successfully Created\n"
     ]
    }
   ],
   "source": [
    "zbus_df = write_zbus_to_csv(zbus)"
   ]
  },
  {
   "cell_type": "markdown",
   "metadata": {},
   "source": [
    "# Gauss Siedel Method"
   ]
  },
  {
   "cell_type": "markdown",
   "metadata": {},
   "source": [
    "Gauss Siedel is an itterative algorithm for solving set of non-linear algebraic equations\n",
    "\n",
    "As we know, <br>\n",
    "<img src=\"images/Vi.jpg\">\n",
    "<br><br><br><br>\n",
    "<img src=\"images/Gauss-Seidel-Method-Flowchart.jpg\">\n",
    "<br><br><br><br>\n",
    "<img src=\"images/Qi.jpg\">\n"
   ]
  },
  {
   "cell_type": "markdown",
   "metadata": {},
   "source": []
  },
  {
   "cell_type": "code",
   "execution_count": 77,
   "metadata": {},
   "outputs": [],
   "source": [
    "def Gauss_Siedel_Load_Flow(linedata, busdata, ittr_limit = 15, tolerance = 0.0001):\n",
    "    \n",
    "    #`````````````Initializations````````````````#\n",
    "    ybus,no_bus = make_ybus(linedata,1)\n",
    "    Vinitial = cmath.polar(complex(1,0))\n",
    "    ittr = 0\n",
    "    buscount = 2\n",
    "    max_change_in_V = 0\n",
    "    \n",
    "#    Vi = cmath.rect(complex(busdata['V'],busdata['delta']))\n",
    "    Vi = [Vinitial for i in range(0,no_bus)] #For all PV/PQ bus, V = 1L0\n",
    "    Qi = complex((busdata['Pg'] - busdata['Pd']),(busdata['Qg'] - busdata['Qd']))\n",
    "    bus_type = busdata['Bus_type']\n",
    "    #````````````````````````````````````````````#\n",
    "#     A = complex(busdata['P'],busdata['Q'])\n",
    "#     B = linedata['Y']/(np.diagonal['Y'])\n",
    "    while((max_change_in_V > tolerance) and (ittr < ittr_limit)):\n",
    "        buscount = 2\n",
    "        change_in_V = 0\n",
    "        while(buscount<=no_bus):\n",
    "            if(busdata[i]['Bus_type'] == 'PV'):\n",
    "                #````````````Computation of Qi ````````````#\n",
    "                for k in range(0,i):\n",
    "                    busdata[i]['Q'] = (-imag(complex(np.conj(Vi.get()) * ybus[buscount][k] * Vi.get() )))\n",
    "                           \n",
    "        ittr = ittr + 1\n",
    "\n",
    "        "
   ]
  },
  {
   "cell_type": "code",
   "execution_count": null,
   "metadata": {},
   "outputs": [],
   "source": [
    "Gauss_Siedel_Load_Flow(data_matrix)"
   ]
  }
 ],
 "metadata": {
  "kernelspec": {
   "display_name": "Python 3",
   "language": "python",
   "name": "python3"
  },
  "language_info": {
   "codemirror_mode": {
    "name": "ipython",
    "version": 3
   },
   "file_extension": ".py",
   "mimetype": "text/x-python",
   "name": "python",
   "nbconvert_exporter": "python",
   "pygments_lexer": "ipython3",
   "version": "3.7.3"
  }
 },
 "nbformat": 4,
 "nbformat_minor": 2
}
