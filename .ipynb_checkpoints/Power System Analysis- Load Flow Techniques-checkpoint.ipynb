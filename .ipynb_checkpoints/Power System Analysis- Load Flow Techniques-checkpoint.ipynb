{
 "cells": [
  {
   "cell_type": "markdown",
   "metadata": {},
   "source": [
    "# Power System Analysis: Load Flow Techniques"
   ]
  },
  {
   "cell_type": "markdown",
   "metadata": {},
   "source": [
    "This Notebook is made by:<br> <br> <b> Anmol Tripathi </b>, <br> B.tech Electrical Engineering, <br>Institute of Technology, Nirma University,<br> Ahmedabad, India"
   ]
  },
  {
   "cell_type": "markdown",
   "metadata": {},
   "source": [
    "## Load Flow: A power system snapshot analysis"
   ]
  },
  {
   "cell_type": "markdown",
   "metadata": {},
   "source": [
    "...<br>....<br>...."
   ]
  },
  {
   "cell_type": "markdown",
   "metadata": {},
   "source": [
    "### Load Flow "
   ]
  },
  {
   "cell_type": "markdown",
   "metadata": {},
   "source": [
    "<b> Introduction<br>\n",
    "<del> Ybus Formation </del> <br>\n",
    "DC Load Flow Analysis <br>\n",
    "Gauss Itteratice Method <br>\n",
    "Gauss Siedel Analysis <br>\n",
    "Newton Raphson Method Polar<br>\n",
    "Newton Raphson Method Rectangular<br>\n",
    "Decoupled Method <br>\n",
    "Fast Decoupled Method <br></b>"
   ]
  },
  {
   "cell_type": "markdown",
   "metadata": {},
   "source": [
    "### Economic Load Dispatch"
   ]
  },
  {
   "cell_type": "markdown",
   "metadata": {},
   "source": [
    "<b> Newton Raphson Method<br>\n",
    "Advanced Methodologies<br></b>"
   ]
  },
  {
   "cell_type": "markdown",
   "metadata": {},
   "source": [
    "# Contents"
   ]
  },
  {
   "cell_type": "markdown",
   "metadata": {},
   "source": [
    "* [Introduction](#Introduction) <br>\n",
    "\n",
    "* [Handling data](#Handling-data) <br>\n",
    "> [Line and Bus Data](#Line-and-bus-data) <br>\n",
    ">> [Entering the Line Data](#Entering-the-line-data) <br>\n",
    ">> [Writing the line data to a CSV file](#Writing-the-line-data-to-a-CSV-file) <br>\n",
    ">> [Reading the line data from a CSV file](#Reading-the-line-data-from-a-CSV-file) <br>\n",
    "\n",
    "* [Y<sub>bus</sub> and Z<sub>bus</sub> Formation](#Ybus-formation) <br>\n",
    "* [DC Loadflow Analysis](#DC-Load-Flow-Analysis) <br>\n",
    "\n",
    "...<br>....<br>...."
   ]
  },
  {
   "cell_type": "markdown",
   "metadata": {},
   "source": [
    "# Introduction"
   ]
  },
  {
   "cell_type": "markdown",
   "metadata": {},
   "source": [
    "Assumptions made while performing load flow:\n",
    "* Line Resistance being small, are neglected, i.e. Active power loss in the system is zero\n",
    "* Considering stability, hence \n",
    "$\\sin(\\delta_i - \\delta_k) \\approx (\\delta_i - \\delta_k)$ (As, for small values of $\\theta$, $\\sin\\theta \\approx \\theta$)\n",
    "\n",
    "<br>...<br>....<br>...."
   ]
  },
  {
   "cell_type": "code",
   "execution_count": 1,
   "metadata": {},
   "outputs": [],
   "source": [
    "import numpy as np\n",
    "import os\n",
    "import cmath\n",
    "import csv\n",
    "import pandas as pd\n",
    "from tkinter import *"
   ]
  },
  {
   "cell_type": "code",
   "execution_count": null,
   "metadata": {},
   "outputs": [],
   "source": [
    "# REMOVE IT\n",
    "\n",
    "\n",
    "#Tkinter start basics\n",
    "import tkinter.messagebox\n",
    "def main():\n",
    "    global entry1\n",
    "    root = Tk()\n",
    "    label1 = Label(text=\"Computer Techniques in Power System\")\n",
    "    label1.pack()\n",
    "\n",
    "    entry1= Entry(bd=2)\n",
    "    entry1.pack()\n",
    "\n",
    "    button1 = Button(text=\"Welcome\",command=hello)\n",
    "    button1.pack()\n",
    "    root.mainloop()\n",
    "\n",
    "def hello():\n",
    "    tkinter.messagebox.showinfo(\"GUI Program\",\"Hello \"+entry1.get())\n",
    "    \n",
    "if __name__=='__main__':\n",
    "    main()"
   ]
  },
  {
   "cell_type": "markdown",
   "metadata": {},
   "source": [
    "# Handling data"
   ]
  },
  {
   "cell_type": "markdown",
   "metadata": {},
   "source": [
    "<br>...<br>....<br>.... About line and Bus data"
   ]
  },
  {
   "cell_type": "markdown",
   "metadata": {},
   "source": [
    "## Line data"
   ]
  },
  {
   "cell_type": "markdown",
   "metadata": {},
   "source": [
    "### Entering the line data"
   ]
  },
  {
   "cell_type": "markdown",
   "metadata": {},
   "source": [
    "<br>...<br>....<br>...."
   ]
  },
  {
   "cell_type": "code",
   "execution_count": null,
   "metadata": {},
   "outputs": [],
   "source": [
    "def enter_line_data():\n",
    "    nb = int(input(\"Enter the number of Buses: \")) \n",
    "    nl = int(input(\"Enter the number of Lines: \"))\n",
    "    from_bus = []\n",
    "    to_bus = []\n",
    "    R = []\n",
    "    X = []\n",
    "    Z = []\n",
    "    G = []\n",
    "    B = []\n",
    "    Y = []\n",
    "    turns_ratio = []\n",
    "    for i in range(0,nl):\n",
    "        print(\"\\n\\n Entry Number: \", i+1)\n",
    "        x = float(input(\"\\n Enter the from bus: \"))\n",
    "        if(x<=nb):\n",
    "            from_bus.append(x)\n",
    "        x = float(input(\"\\n Enter the to bus: \"))\n",
    "        if(x<=nb):\n",
    "            to_bus.append(x)\n",
    "        x = float(input(\"\\n Enter the Line Resistance: \"))\n",
    "        R.append(x)\n",
    "        x = float(input(\"\\n Enter the Line Reactance: \"))\n",
    "        X.append(x)\n",
    "        x = complex(R[i],X[i])\n",
    "        g = complex(\"{0:.2f}\".format(x))\n",
    "        Z.append(g)\n",
    "        print(\"\\n Line Impedence = \", Z[i])\n",
    "\n",
    "        Y.append(1/Z[i])\n",
    "        G.append(Y[i].real)\n",
    "        B.append(Y[i].imag)\n",
    "        print(\"\\n Line Admittance = \", Y[i])\n",
    "        x = float(input(\"\\n Enter the turns ratio: \"))\n",
    "        turns_ratio.append(x)\n",
    "    data_matrix = [(from_bus[i], to_bus[i], R[i], X[i], Z[i], G[i], B[i], Y[i], turns_ratio[i]) for i in range(0, nl)] \n",
    "    data_matrix = pd.DataFrame(data_matrix, columns=['From_Bus','To_Bus','R','X','Z','G','B','Y','Turns_Ratio'])\n",
    "    return data_matrix"
   ]
  },
  {
   "cell_type": "code",
   "execution_count": null,
   "metadata": {},
   "outputs": [],
   "source": [
    "data_matrix = enter_line_data()"
   ]
  },
  {
   "cell_type": "code",
   "execution_count": null,
   "metadata": {},
   "outputs": [],
   "source": [
    "data_matrix"
   ]
  },
  {
   "cell_type": "markdown",
   "metadata": {},
   "source": [
    "### Writing the line data to a CSV file"
   ]
  },
  {
   "cell_type": "markdown",
   "metadata": {},
   "source": [
    "<br>...<br>....<br>...."
   ]
  },
  {
   "cell_type": "code",
   "execution_count": 2,
   "metadata": {},
   "outputs": [],
   "source": [
    "def line_write_to_csv(data_matrix):\n",
    "    dir_path = os.getcwd()\n",
    "    filename = input(\"Enter the Filename: \")\n",
    "    filename = filename + '.csv'\n",
    "    export_csv = data_matrix.to_csv (os.path.join(dir_path,filename), index = None, header=True)"
   ]
  },
  {
   "cell_type": "code",
   "execution_count": 3,
   "metadata": {},
   "outputs": [
    {
     "ename": "NameError",
     "evalue": "name 'data_matrix' is not defined",
     "output_type": "error",
     "traceback": [
      "\u001b[1;31m---------------------------------------------------------------------------\u001b[0m",
      "\u001b[1;31mNameError\u001b[0m                                 Traceback (most recent call last)",
      "\u001b[1;32m<ipython-input-3-10235af1f9fe>\u001b[0m in \u001b[0;36m<module>\u001b[1;34m\u001b[0m\n\u001b[1;32m----> 1\u001b[1;33m \u001b[0mline_write_to_csv\u001b[0m\u001b[1;33m(\u001b[0m\u001b[0mdata_matrix\u001b[0m\u001b[1;33m)\u001b[0m\u001b[1;33m\u001b[0m\u001b[1;33m\u001b[0m\u001b[0m\n\u001b[0m",
      "\u001b[1;31mNameError\u001b[0m: name 'data_matrix' is not defined"
     ]
    }
   ],
   "source": [
    "line_write_to_csv(data_matrix)"
   ]
  },
  {
   "cell_type": "markdown",
   "metadata": {},
   "source": [
    "### Reading the line data from a CSV file"
   ]
  },
  {
   "cell_type": "markdown",
   "metadata": {},
   "source": [
    "<br>...<br>....<br>...."
   ]
  },
  {
   "cell_type": "code",
   "execution_count": 2,
   "metadata": {},
   "outputs": [],
   "source": [
    "def line_read_from_csv():\n",
    "    print(\"\\n\\n Please make sure that the CSV has data in following format: \\n\\n\\n From Bus\\tTo Bus\\t R\\tX\\tZ\\tG\\tB\\tY\\tTurns Ratio\\n \\n\\n Note: The csv file should be in the same directory\")\n",
    "    filename = input(\"\\n Enter the CSV Filename:  \")\n",
    "    filename = filename + '.csv'\n",
    "    dir_path = os.getcwd()\n",
    "    csv_path = os.path.join(dir_path, filename)\n",
    "    data = pd.read_csv(csv_path)\n",
    "    data.head()\n",
    "    return(data)"
   ]
  },
  {
   "cell_type": "code",
   "execution_count": 39,
   "metadata": {},
   "outputs": [
    {
     "name": "stdout",
     "output_type": "stream",
     "text": [
      "\n",
      "\n",
      " Please make sure that the CSV has data in following format: \n",
      "\n",
      "\n",
      " From Bus\tTo Bus\t R\tX\tZ\tG\tB\tY\tTurns Ratio\n",
      " \n",
      "\n",
      " Note: The csv file should be in the same directory\n",
      "\n",
      " Enter the CSV Filename:  line_data\n",
      "<class 'pandas.core.frame.DataFrame'>\n"
     ]
    },
    {
     "data": {
      "text/html": [
       "<div>\n",
       "<style scoped>\n",
       "    .dataframe tbody tr th:only-of-type {\n",
       "        vertical-align: middle;\n",
       "    }\n",
       "\n",
       "    .dataframe tbody tr th {\n",
       "        vertical-align: top;\n",
       "    }\n",
       "\n",
       "    .dataframe thead th {\n",
       "        text-align: right;\n",
       "    }\n",
       "</style>\n",
       "<table border=\"1\" class=\"dataframe\">\n",
       "  <thead>\n",
       "    <tr style=\"text-align: right;\">\n",
       "      <th></th>\n",
       "      <th>From_Bus</th>\n",
       "      <th>To_Bus</th>\n",
       "      <th>R</th>\n",
       "      <th>X</th>\n",
       "      <th>Z</th>\n",
       "      <th>G</th>\n",
       "      <th>B</th>\n",
       "      <th>Y</th>\n",
       "      <th>Turns_Ratio</th>\n",
       "    </tr>\n",
       "  </thead>\n",
       "  <tbody>\n",
       "    <tr>\n",
       "      <th>0</th>\n",
       "      <td>1.0</td>\n",
       "      <td>2.0</td>\n",
       "      <td>34.0</td>\n",
       "      <td>53.00</td>\n",
       "      <td>(34+53j)</td>\n",
       "      <td>0.008575</td>\n",
       "      <td>-0.013367</td>\n",
       "      <td>(0.008575031525851198-0.013366960907944515j)</td>\n",
       "      <td>0.10</td>\n",
       "    </tr>\n",
       "    <tr>\n",
       "      <th>1</th>\n",
       "      <td>2.0</td>\n",
       "      <td>3.0</td>\n",
       "      <td>45.0</td>\n",
       "      <td>34.00</td>\n",
       "      <td>(45+34j)</td>\n",
       "      <td>0.014146</td>\n",
       "      <td>-0.010688</td>\n",
       "      <td>(0.014146494812951901-0.010688462747563658j)</td>\n",
       "      <td>4.00</td>\n",
       "    </tr>\n",
       "    <tr>\n",
       "      <th>2</th>\n",
       "      <td>3.0</td>\n",
       "      <td>5.0</td>\n",
       "      <td>34.0</td>\n",
       "      <td>54.00</td>\n",
       "      <td>(34+54j)</td>\n",
       "      <td>0.008350</td>\n",
       "      <td>-0.013261</td>\n",
       "      <td>(0.008349705304518664-0.01326129666011788j)</td>\n",
       "      <td>34.00</td>\n",
       "    </tr>\n",
       "    <tr>\n",
       "      <th>3</th>\n",
       "      <td>4.0</td>\n",
       "      <td>5.0</td>\n",
       "      <td>43.0</td>\n",
       "      <td>0.54</td>\n",
       "      <td>(43+0.54j)</td>\n",
       "      <td>0.023252</td>\n",
       "      <td>-0.000292</td>\n",
       "      <td>(0.0232521469302083-0.00029200370563517403j)</td>\n",
       "      <td>0.40</td>\n",
       "    </tr>\n",
       "    <tr>\n",
       "      <th>4</th>\n",
       "      <td>3.0</td>\n",
       "      <td>1.0</td>\n",
       "      <td>34.0</td>\n",
       "      <td>43.00</td>\n",
       "      <td>(34+43j)</td>\n",
       "      <td>0.011314</td>\n",
       "      <td>-0.014309</td>\n",
       "      <td>(0.011314475873544092-0.014309484193011647j)</td>\n",
       "      <td>0.54</td>\n",
       "    </tr>\n",
       "  </tbody>\n",
       "</table>\n",
       "</div>"
      ],
      "text/plain": [
       "   From_Bus  To_Bus     R      X           Z         G         B  \\\n",
       "0       1.0     2.0  34.0  53.00    (34+53j)  0.008575 -0.013367   \n",
       "1       2.0     3.0  45.0  34.00    (45+34j)  0.014146 -0.010688   \n",
       "2       3.0     5.0  34.0  54.00    (34+54j)  0.008350 -0.013261   \n",
       "3       4.0     5.0  43.0   0.54  (43+0.54j)  0.023252 -0.000292   \n",
       "4       3.0     1.0  34.0  43.00    (34+43j)  0.011314 -0.014309   \n",
       "\n",
       "                                              Y  Turns_Ratio  \n",
       "0  (0.008575031525851198-0.013366960907944515j)         0.10  \n",
       "1  (0.014146494812951901-0.010688462747563658j)         4.00  \n",
       "2   (0.008349705304518664-0.01326129666011788j)        34.00  \n",
       "3  (0.0232521469302083-0.00029200370563517403j)         0.40  \n",
       "4  (0.011314475873544092-0.014309484193011647j)         0.54  "
      ]
     },
     "execution_count": 39,
     "metadata": {},
     "output_type": "execute_result"
    }
   ],
   "source": [
    "data_matrix = line_read_from_csv()\n",
    "print(type(data_matrix))\n",
    "data_matrix"
   ]
  },
  {
   "cell_type": "markdown",
   "metadata": {},
   "source": [
    "## Bus Data"
   ]
  },
  {
   "cell_type": "markdown",
   "metadata": {},
   "source": [
    "<br>...<br>....<br>...."
   ]
  },
  {
   "cell_type": "markdown",
   "metadata": {},
   "source": [
    "### Reading the bus data from a CSV file"
   ]
  },
  {
   "cell_type": "markdown",
   "metadata": {},
   "source": [
    "<br>...<br>....<br>...."
   ]
  },
  {
   "cell_type": "code",
   "execution_count": 12,
   "metadata": {},
   "outputs": [],
   "source": [
    "def bus_read_from_csv():\n",
    "    print(\"\\n\\n Please make sure that the CSV has data in following format: \\n\\n\\n Bus Number\\tBus Type\\tPg\\tPd\\tQg\\tQd\\tV\\tdelta\\tQmin\\tQmax\\tVmin\\tVmax\\t \\n\\n Note: The csv file should be in the same directory\")\n",
    "    filename = input(\"\\n Enter the CSV Filename:  \")\n",
    "    filename = filename + '.csv'\n",
    "    dir_path = os.getcwd()\n",
    "    csv_path = os.path.join(dir_path, filename)\n",
    "    data = pd.read_csv(csv_path)\n",
    "    data.head()\n",
    "    return(data)"
   ]
  },
  {
   "cell_type": "code",
   "execution_count": 13,
   "metadata": {},
   "outputs": [
    {
     "name": "stdout",
     "output_type": "stream",
     "text": [
      "\n",
      "\n",
      " Please make sure that the CSV has data in following format: \n",
      "\n",
      "\n",
      " Bus Number\tBus Type\tPg\tPd\tQg\tQd\tV\tdelta\tQmin\tQmax\tVmin\tVmax\t \n",
      "\n",
      " Note: The csv file should be in the same directory\n",
      "\n",
      " Enter the CSV Filename:  bus_data\n"
     ]
    },
    {
     "data": {
      "text/html": [
       "<div>\n",
       "<style scoped>\n",
       "    .dataframe tbody tr th:only-of-type {\n",
       "        vertical-align: middle;\n",
       "    }\n",
       "\n",
       "    .dataframe tbody tr th {\n",
       "        vertical-align: top;\n",
       "    }\n",
       "\n",
       "    .dataframe thead th {\n",
       "        text-align: right;\n",
       "    }\n",
       "</style>\n",
       "<table border=\"1\" class=\"dataframe\">\n",
       "  <thead>\n",
       "    <tr style=\"text-align: right;\">\n",
       "      <th></th>\n",
       "      <th>Bus_no</th>\n",
       "      <th>Bus_type</th>\n",
       "      <th>Pg</th>\n",
       "      <th>Pd</th>\n",
       "      <th>Qg</th>\n",
       "      <th>Qd</th>\n",
       "      <th>V</th>\n",
       "      <th>delta</th>\n",
       "      <th>Qmin</th>\n",
       "      <th>Qmax</th>\n",
       "      <th>Vmin</th>\n",
       "      <th>Vmax</th>\n",
       "    </tr>\n",
       "  </thead>\n",
       "  <tbody>\n",
       "  </tbody>\n",
       "</table>\n",
       "</div>"
      ],
      "text/plain": [
       "Empty DataFrame\n",
       "Columns: [Bus_no, Bus_type, Pg, Pd, Qg, Qd, V, delta, Qmin, Qmax, Vmin, Vmax]\n",
       "Index: []"
      ]
     },
     "execution_count": 13,
     "metadata": {},
     "output_type": "execute_result"
    }
   ],
   "source": [
    "bus_read_from_csv()"
   ]
  },
  {
   "cell_type": "markdown",
   "metadata": {},
   "source": [
    "## Checking Matrix to be Symmetric"
   ]
  },
  {
   "cell_type": "markdown",
   "metadata": {},
   "source": [
    "...<br>\n",
    ",.."
   ]
  },
  {
   "cell_type": "code",
   "execution_count": 22,
   "metadata": {},
   "outputs": [
    {
     "data": {
      "text/plain": [
       "True"
      ]
     },
     "execution_count": 22,
     "metadata": {},
     "output_type": "execute_result"
    }
   ],
   "source": [
    "def check_symmetric(a, tol=1e-8):\n",
    "    return np.all(np.abs(a-a.T) < tol)"
   ]
  },
  {
   "cell_type": "markdown",
   "metadata": {},
   "source": [
    "# Bus Incidence Matrix "
   ]
  },
  {
   "cell_type": "markdown",
   "metadata": {},
   "source": [
    "...<br>\n",
    "...<br>\n",
    "..."
   ]
  },
  {
   "cell_type": "code",
   "execution_count": 72,
   "metadata": {},
   "outputs": [],
   "source": [
    "def make_bus_incidence_matrix(datamatrix):\n",
    "    linedata = datamatrix\n",
    "    frombus = linedata.iloc[:,0].astype(int) #Because float isn't itteratable\n",
    "    tobus = linedata.iloc[:,1].astype(int)\n",
    "    no_bus = max(max(frombus),max(tobus)) #To find number of buses \n",
    "    bus_incidence = np.zeros((no_bus+1,no_bus+1)).astype(int)\n",
    "    for i in range(0,no_bus):\n",
    "        bus_incidence[frombus[i]][tobus[i]] = 1\n",
    "    bus_incidence = np.delete(bus_incidence,0,0)\n",
    "    bus_incidence = np.delete(bus_incidence,0,1)\n",
    "    return bus_incidence"
   ]
  },
  {
   "cell_type": "code",
   "execution_count": 74,
   "metadata": {},
   "outputs": [
    {
     "name": "stdout",
     "output_type": "stream",
     "text": [
      "[[0 1 0 0 0]\n",
      " [0 0 1 0 0]\n",
      " [1 0 0 0 1]\n",
      " [0 0 0 0 1]\n",
      " [0 0 0 0 0]]\n"
     ]
    }
   ],
   "source": [
    "bus_incidence =  make_bus_incidence_matrix(data_matrix)\n",
    "print(bus_incidence)"
   ]
  },
  {
   "cell_type": "code",
   "execution_count": 75,
   "metadata": {},
   "outputs": [
    {
     "data": {
      "text/plain": [
       "False"
      ]
     },
     "execution_count": 75,
     "metadata": {},
     "output_type": "execute_result"
    }
   ],
   "source": [
    "check_symmetric(bus_incidence)"
   ]
  },
  {
   "cell_type": "markdown",
   "metadata": {},
   "source": [
    "# Y<sub>bus</sub> and Z<sub>bus</sub> Formation"
   ]
  },
  {
   "cell_type": "markdown",
   "metadata": {},
   "source": [
    "<br>...<br>....<br>....<br>...<br>....<br>...."
   ]
  },
  {
   "cell_type": "code",
   "execution_count": 19,
   "metadata": {},
   "outputs": [],
   "source": [
    "def make_ybus(datamatrix):\n",
    "    linedata = datamatrix\n",
    "    frombus = linedata.iloc[:,0].astype(int) #Because float isn't itteratable\n",
    "    tobus = linedata.iloc[:,1].astype(int)\n",
    "    no_bus = max(max(frombus),max(tobus)) #To find number of buses \n",
    "    y_bus = np.zeros((no_bus+1,no_bus+1)).astype(complex)\n",
    "    for i in range(0,no_bus):\n",
    "        y_bus[frombus[i],tobus[i]] = -(complex(linedata.iloc[i,7]))\n",
    "        y_bus[tobus[i],frombus[i]] = -(complex(linedata.iloc[i,7]))\n",
    "        y_bus[frombus[i],frombus[i]] = y_bus[frombus[i],frombus[i]] + (complex(linedata.iloc[i,7]))\n",
    "        y_bus[tobus[i],tobus[i]] = y_bus[tobus[i],tobus[i]] + (complex(linedata.iloc[i,7]))\n",
    "    y_bus = np.delete(y_bus,0,0)\n",
    "    y_bus = np.delete(y_bus,0,1)\n",
    "    print(\"Ybus Formed\")\n",
    "    return y_bus"
   ]
  },
  {
   "cell_type": "code",
   "execution_count": 20,
   "metadata": {},
   "outputs": [
    {
     "name": "stdout",
     "output_type": "stream",
     "text": [
      "Ybus Formed\n"
     ]
    }
   ],
   "source": [
    "ybus = make_ybus(data_matrix)"
   ]
  },
  {
   "cell_type": "code",
   "execution_count": 21,
   "metadata": {},
   "outputs": [
    {
     "data": {
      "text/plain": [
       "array([[ 0.01988951-0.02767645j, -0.00857503+0.01336696j,\n",
       "        -0.01131448+0.01430948j,  0.        +0.j        ,\n",
       "         0.        +0.j        ],\n",
       "       [-0.00857503+0.01336696j,  0.02272153-0.02405542j,\n",
       "        -0.01414649+0.01068846j,  0.        +0.j        ,\n",
       "         0.        +0.j        ],\n",
       "       [-0.01131448+0.01430948j, -0.01414649+0.01068846j,\n",
       "         0.03381068-0.03825924j,  0.        +0.j        ,\n",
       "        -0.00834971+0.0132613j ],\n",
       "       [ 0.        +0.j        ,  0.        +0.j        ,\n",
       "         0.        +0.j        ,  0.02325215-0.000292j  ,\n",
       "        -0.02325215+0.000292j  ],\n",
       "       [ 0.        +0.j        ,  0.        +0.j        ,\n",
       "        -0.00834971+0.0132613j , -0.02325215+0.000292j  ,\n",
       "         0.03160185-0.0135533j ]])"
      ]
     },
     "execution_count": 21,
     "metadata": {},
     "output_type": "execute_result"
    }
   ],
   "source": [
    "ybus"
   ]
  },
  {
   "cell_type": "code",
   "execution_count": 23,
   "metadata": {},
   "outputs": [
    {
     "data": {
      "text/plain": [
       "array([[9.43466932e+16-1.27761147e+16j, 9.43466932e+16-1.27761147e+16j,\n",
       "        9.43466932e+16-1.27761147e+16j, 9.43466932e+16-1.27761147e+16j,\n",
       "        9.43466932e+16-1.27761147e+16j],\n",
       "       [9.43466932e+16-1.27761147e+16j, 9.43466932e+16-1.27761147e+16j,\n",
       "        9.43466932e+16-1.27761147e+16j, 9.43466932e+16-1.27761147e+16j,\n",
       "        9.43466932e+16-1.27761147e+16j],\n",
       "       [9.43466932e+16-1.27761147e+16j, 9.43466932e+16-1.27761147e+16j,\n",
       "        9.43466932e+16-1.27761147e+16j, 9.43466932e+16-1.27761147e+16j,\n",
       "        9.43466932e+16-1.27761147e+16j],\n",
       "       [9.43466932e+16-1.27761147e+16j, 9.43466932e+16-1.27761147e+16j,\n",
       "        9.43466932e+16-1.27761147e+16j, 9.43466932e+16-1.27761147e+16j,\n",
       "        9.43466932e+16-1.27761147e+16j],\n",
       "       [9.43466932e+16-1.27761147e+16j, 9.43466932e+16-1.27761147e+16j,\n",
       "        9.43466932e+16-1.27761147e+16j, 9.43466932e+16-1.27761147e+16j,\n",
       "        9.43466932e+16-1.27761147e+16j]])"
      ]
     },
     "execution_count": 23,
     "metadata": {},
     "output_type": "execute_result"
    }
   ],
   "source": [
    "zbus = np.linalg.inv(ybus)\n",
    "zbus"
   ]
  },
  {
   "cell_type": "markdown",
   "metadata": {},
   "source": [
    "# Gauss Siedel Method"
   ]
  },
  {
   "cell_type": "markdown",
   "metadata": {},
   "source": [
    "Gauss Siedel is an itterative algorithm for solving set of non-linear algebraic equations\n",
    "\n",
    "As we know, <br>\n",
    "<img src=\"images/Vi.jpg\">\n",
    "<br>\n",
    "<img src=\"images/Gauss-Seidel-Method-Flowchart.jpg\">"
   ]
  },
  {
   "cell_type": "markdown",
   "metadata": {},
   "source": []
  },
  {
   "cell_type": "code",
   "execution_count": 77,
   "metadata": {},
   "outputs": [],
   "source": [
    "def Gauss_Siedel_Load_Flow(linedata,busdata,ittr_limit):\n",
    "    ybus = make_ybus(linedata)\n",
    "    Vinitial = cmath.polar(complex(1,0))\n",
    "    tolerance = 0.0001\n",
    "    ittr = 0\n",
    "    busdata['V'] = np.where(busdata['Bus_type']=='PV',Vinitial)\n",
    "    busdata['V'] = np.where(busdata['Bus_type']=='PQ',Vinitial)\n",
    "#     A = complex(busdata['P'],busdata['Q'])\n",
    "#     B = linedata['Y']/(np.diagonal['Y'])\n",
    "    while((change_in_V > tolerance) and (ittr < ittr_limit)):\n",
    "        for i in range(0,max(busdata['Bus_no'])):\n",
    "            if(busdata[i]['Bus_type'] == 'PV'):\n",
    "                busdata[i]['delta'] = math.degrees(math.atan( (busdata[i][V].imag) / (busdata[i][V].real)))\n",
    "                busdata[i][V].imag = busdata[i][V].magnitude * sin(busdata[i]['delta'])\n",
    "            ittr = ittr + 1\n",
    "\n",
    "        "
   ]
  },
  {
   "cell_type": "code",
   "execution_count": null,
   "metadata": {},
   "outputs": [],
   "source": [
    "Gauss_Siedel_Load_Flow(data_matrix)"
   ]
  }
 ],
 "metadata": {
  "kernelspec": {
   "display_name": "Python 3",
   "language": "python",
   "name": "python3"
  },
  "language_info": {
   "codemirror_mode": {
    "name": "ipython",
    "version": 3
   },
   "file_extension": ".py",
   "mimetype": "text/x-python",
   "name": "python",
   "nbconvert_exporter": "python",
   "pygments_lexer": "ipython3",
   "version": "3.7.3"
  }
 },
 "nbformat": 4,
 "nbformat_minor": 2
}
